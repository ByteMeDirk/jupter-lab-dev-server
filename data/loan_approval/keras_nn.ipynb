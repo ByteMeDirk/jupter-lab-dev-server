{
 "cells": [
  {
   "cell_type": "code",
   "execution_count": 1,
   "id": "846b172c-7b57-40d5-8a2d-485800fa3607",
   "metadata": {},
   "outputs": [],
   "source": [
    "import os\n",
    "\n",
    "import pandas as pd\n",
    "import tensorflow as tf\n",
    "import numpy as np\n",
    "import matplotlib.pyplot as plt\n",
    "from sklearn import preprocessing\n",
    "from sklearn.pipeline import Pipeline\n",
    "from sklearn.model_selection import train_test_split\n",
    "from sklearn.compose import ColumnTransformer\n",
    "from sklearn.impute import SimpleImputer"
   ]
  },
  {
   "cell_type": "code",
   "execution_count": 2,
   "id": "3f61c664-a072-44a5-b65f-e2193bb2f7aa",
   "metadata": {},
   "outputs": [
    {
     "data": {
      "text/html": [
       "<div>\n",
       "<style scoped>\n",
       "    .dataframe tbody tr th:only-of-type {\n",
       "        vertical-align: middle;\n",
       "    }\n",
       "\n",
       "    .dataframe tbody tr th {\n",
       "        vertical-align: top;\n",
       "    }\n",
       "\n",
       "    .dataframe thead th {\n",
       "        text-align: right;\n",
       "    }\n",
       "</style>\n",
       "<table border=\"1\" class=\"dataframe\">\n",
       "  <thead>\n",
       "    <tr style=\"text-align: right;\">\n",
       "      <th></th>\n",
       "      <th>credit_score</th>\n",
       "      <th>income</th>\n",
       "      <th>employment_status</th>\n",
       "      <th>loan_amount</th>\n",
       "      <th>loan_purpose</th>\n",
       "      <th>credit_history</th>\n",
       "      <th>loan_term_months</th>\n",
       "      <th>interest_rate</th>\n",
       "      <th>loan_approved</th>\n",
       "    </tr>\n",
       "  </thead>\n",
       "  <tbody>\n",
       "    <tr>\n",
       "      <th>0</th>\n",
       "      <td>612</td>\n",
       "      <td>71450</td>\n",
       "      <td>unemployed</td>\n",
       "      <td>6411</td>\n",
       "      <td>other</td>\n",
       "      <td>excellent</td>\n",
       "      <td>48</td>\n",
       "      <td>0.07</td>\n",
       "      <td>False</td>\n",
       "    </tr>\n",
       "    <tr>\n",
       "      <th>1</th>\n",
       "      <td>517</td>\n",
       "      <td>47532</td>\n",
       "      <td>self-employed</td>\n",
       "      <td>6284</td>\n",
       "      <td>business</td>\n",
       "      <td>fair</td>\n",
       "      <td>60</td>\n",
       "      <td>0.09</td>\n",
       "      <td>False</td>\n",
       "    </tr>\n",
       "    <tr>\n",
       "      <th>2</th>\n",
       "      <td>700</td>\n",
       "      <td>72278</td>\n",
       "      <td>unemployed</td>\n",
       "      <td>15477</td>\n",
       "      <td>car purchase</td>\n",
       "      <td>excellent</td>\n",
       "      <td>60</td>\n",
       "      <td>0.08</td>\n",
       "      <td>False</td>\n",
       "    </tr>\n",
       "    <tr>\n",
       "      <th>3</th>\n",
       "      <td>525</td>\n",
       "      <td>63237</td>\n",
       "      <td>employed</td>\n",
       "      <td>6223</td>\n",
       "      <td>debt consolidation</td>\n",
       "      <td>excellent</td>\n",
       "      <td>48</td>\n",
       "      <td>0.06</td>\n",
       "      <td>False</td>\n",
       "    </tr>\n",
       "    <tr>\n",
       "      <th>4</th>\n",
       "      <td>682</td>\n",
       "      <td>54053</td>\n",
       "      <td>student</td>\n",
       "      <td>7236</td>\n",
       "      <td>vacation</td>\n",
       "      <td>fair</td>\n",
       "      <td>60</td>\n",
       "      <td>0.05</td>\n",
       "      <td>True</td>\n",
       "    </tr>\n",
       "  </tbody>\n",
       "</table>\n",
       "</div>"
      ],
      "text/plain": [
       "   credit_score  income employment_status  loan_amount        loan_purpose  \\\n",
       "0           612   71450        unemployed         6411               other   \n",
       "1           517   47532     self-employed         6284            business   \n",
       "2           700   72278        unemployed        15477        car purchase   \n",
       "3           525   63237          employed         6223  debt consolidation   \n",
       "4           682   54053           student         7236            vacation   \n",
       "\n",
       "  credit_history  loan_term_months  interest_rate  loan_approved  \n",
       "0      excellent                48           0.07          False  \n",
       "1           fair                60           0.09          False  \n",
       "2      excellent                60           0.08          False  \n",
       "3      excellent                48           0.06          False  \n",
       "4           fair                60           0.05           True  "
      ]
     },
     "execution_count": 2,
     "metadata": {},
     "output_type": "execute_result"
    }
   ],
   "source": [
    "# Load Data\n",
    "loan_approval_data = pd.read_csv(\"loan_approval_data.csv\")\n",
    "loan_approval_data.head()"
   ]
  },
  {
   "cell_type": "code",
   "execution_count": 3,
   "id": "38b097f7-52f1-4c42-aa28-86cbf4196ff2",
   "metadata": {},
   "outputs": [
    {
     "data": {
      "text/html": [
       "<div>\n",
       "<style scoped>\n",
       "    .dataframe tbody tr th:only-of-type {\n",
       "        vertical-align: middle;\n",
       "    }\n",
       "\n",
       "    .dataframe tbody tr th {\n",
       "        vertical-align: top;\n",
       "    }\n",
       "\n",
       "    .dataframe thead th {\n",
       "        text-align: right;\n",
       "    }\n",
       "</style>\n",
       "<table border=\"1\" class=\"dataframe\">\n",
       "  <thead>\n",
       "    <tr style=\"text-align: right;\">\n",
       "      <th></th>\n",
       "      <th>credit_score</th>\n",
       "      <th>income</th>\n",
       "      <th>employment_status</th>\n",
       "      <th>loan_amount</th>\n",
       "      <th>loan_purpose</th>\n",
       "      <th>credit_history</th>\n",
       "      <th>loan_term_months</th>\n",
       "      <th>interest_rate</th>\n",
       "      <th>loan_approved</th>\n",
       "    </tr>\n",
       "  </thead>\n",
       "  <tbody>\n",
       "    <tr>\n",
       "      <th>0</th>\n",
       "      <td>612</td>\n",
       "      <td>71450</td>\n",
       "      <td>unemployed</td>\n",
       "      <td>6411</td>\n",
       "      <td>other</td>\n",
       "      <td>excellent</td>\n",
       "      <td>48</td>\n",
       "      <td>0.07</td>\n",
       "      <td>0</td>\n",
       "    </tr>\n",
       "    <tr>\n",
       "      <th>1</th>\n",
       "      <td>517</td>\n",
       "      <td>47532</td>\n",
       "      <td>self-employed</td>\n",
       "      <td>6284</td>\n",
       "      <td>business</td>\n",
       "      <td>fair</td>\n",
       "      <td>60</td>\n",
       "      <td>0.09</td>\n",
       "      <td>0</td>\n",
       "    </tr>\n",
       "    <tr>\n",
       "      <th>2</th>\n",
       "      <td>700</td>\n",
       "      <td>72278</td>\n",
       "      <td>unemployed</td>\n",
       "      <td>15477</td>\n",
       "      <td>car purchase</td>\n",
       "      <td>excellent</td>\n",
       "      <td>60</td>\n",
       "      <td>0.08</td>\n",
       "      <td>0</td>\n",
       "    </tr>\n",
       "    <tr>\n",
       "      <th>3</th>\n",
       "      <td>525</td>\n",
       "      <td>63237</td>\n",
       "      <td>employed</td>\n",
       "      <td>6223</td>\n",
       "      <td>debt consolidation</td>\n",
       "      <td>excellent</td>\n",
       "      <td>48</td>\n",
       "      <td>0.06</td>\n",
       "      <td>0</td>\n",
       "    </tr>\n",
       "    <tr>\n",
       "      <th>4</th>\n",
       "      <td>682</td>\n",
       "      <td>54053</td>\n",
       "      <td>student</td>\n",
       "      <td>7236</td>\n",
       "      <td>vacation</td>\n",
       "      <td>fair</td>\n",
       "      <td>60</td>\n",
       "      <td>0.05</td>\n",
       "      <td>1</td>\n",
       "    </tr>\n",
       "  </tbody>\n",
       "</table>\n",
       "</div>"
      ],
      "text/plain": [
       "   credit_score  income employment_status  loan_amount        loan_purpose  \\\n",
       "0           612   71450        unemployed         6411               other   \n",
       "1           517   47532     self-employed         6284            business   \n",
       "2           700   72278        unemployed        15477        car purchase   \n",
       "3           525   63237          employed         6223  debt consolidation   \n",
       "4           682   54053           student         7236            vacation   \n",
       "\n",
       "  credit_history  loan_term_months  interest_rate  loan_approved  \n",
       "0      excellent                48           0.07              0  \n",
       "1           fair                60           0.09              0  \n",
       "2      excellent                60           0.08              0  \n",
       "3      excellent                48           0.06              0  \n",
       "4           fair                60           0.05              1  "
      ]
     },
     "execution_count": 3,
     "metadata": {},
     "output_type": "execute_result"
    }
   ],
   "source": [
    "# Label encoder to convert String to numeric values for the target variable\n",
    "label_encoder = preprocessing.LabelEncoder()\n",
    "loan_approval_data[\"loan_approved\"] = label_encoder.fit_transform(loan_approval_data[\"loan_approved\"])\n",
    "loan_approval_data.head()"
   ]
  },
  {
   "cell_type": "code",
   "execution_count": 4,
   "id": "f57c3925-876f-45a0-bfbf-47a64aa5b461",
   "metadata": {},
   "outputs": [],
   "source": [
    "# Define preprocessing for numeric columns (scale them)\n",
    "numeric_features = ['credit_score', 'income', 'loan_amount', 'loan_term_months', 'interest_rate']\n",
    "numeric_transformer = Pipeline(\n",
    "    steps=[\n",
    "        ('imputer', SimpleImputer(strategy='median')),\n",
    "        ('scaler', preprocessing.StandardScaler())\n",
    "    ]\n",
    ")\n",
    "\n",
    "# Define preprocessing for categorical features (encode them)\n",
    "categorical_features = ['employment_status', 'loan_purpose', 'credit_history']\n",
    "categorical_transformer = Pipeline(\n",
    "    steps=[\n",
    "        ('imputer', SimpleImputer(strategy='constant', fill_value='missing')),\n",
    "        ('onehot', preprocessing.OneHotEncoder(handle_unknown='ignore'))\n",
    "    ]\n",
    ")\n",
    "\n",
    "# Combine preprocessing steps\n",
    "preprocessor = ColumnTransformer(\n",
    "    transformers=[\n",
    "        ('num', numeric_transformer, numeric_features),\n",
    "        ('cat', categorical_transformer, categorical_features)\n",
    "    ]\n",
    ")"
   ]
  },
  {
   "cell_type": "code",
   "execution_count": 5,
   "id": "6032cb92-68f8-4e0f-8d16-fb9adaa90ed9",
   "metadata": {},
   "outputs": [
    {
     "name": "stdout",
     "output_type": "stream",
     "text": [
      "\n",
      "Features before scaling:\n",
      "   credit_score  income employment_status  loan_amount        loan_purpose  \\\n",
      "0           612   71450        unemployed         6411               other   \n",
      "1           517   47532     self-employed         6284            business   \n",
      "2           700   72278        unemployed        15477        car purchase   \n",
      "3           525   63237          employed         6223  debt consolidation   \n",
      "4           682   54053           student         7236            vacation   \n",
      "\n",
      "  credit_history  loan_term_months  interest_rate  \n",
      "0      excellent                48           0.07  \n",
      "1           fair                60           0.09  \n",
      "2      excellent                60           0.08  \n",
      "3      excellent                48           0.06  \n",
      "4           fair                60           0.05  \n",
      "\n",
      "Target before scaling:\n",
      "0    0\n",
      "1    0\n",
      "2    0\n",
      "3    0\n",
      "4    1\n",
      "Name: loan_approved, dtype: int64\n"
     ]
    }
   ],
   "source": [
    "# Separate features and target variables\n",
    "X_data = loan_approval_data.drop(\"loan_approved\", axis=1)  # all columns except 'loan_approved'\n",
    "Y_data = loan_approval_data[\"loan_approved\"]  # only 'loan_approved' column\n",
    "\n",
    "print(f\"\\nFeatures before scaling:\\n{X_data.head()}\")\n",
    "print(f\"\\nTarget before scaling:\\n{Y_data.head()}\")"
   ]
  },
  {
   "cell_type": "code",
   "execution_count": 6,
   "id": "56adfa16-d7fd-4a1a-b5d3-73c02f02673b",
   "metadata": {},
   "outputs": [
    {
     "name": "stdout",
     "output_type": "stream",
     "text": [
      "Preprocessed Loan Approval Data: [[-0.62449378  1.13612002 -1.40684792 ...  0.          0.\n",
      "   0.        ]\n",
      " [-1.56286255 -0.52083402 -1.43618904 ...  1.          0.\n",
      "   0.        ]\n",
      " [ 0.24473203  1.19348092  0.68769265 ...  0.          0.\n",
      "   0.        ]\n",
      " ...\n",
      " [-0.08122765  0.37186227  0.53821463 ...  0.          0.\n",
      "   1.        ]\n",
      " [ 0.39289552  0.05769359  0.33144055 ...  0.          1.\n",
      "   0.        ]\n",
      " [-0.94057589 -1.16829168  0.71172003 ...  1.          0.\n",
      "   0.        ]]\n"
     ]
    }
   ],
   "source": [
    "# Preprocessing on dataset\n",
    "X_data = preprocessor.fit_transform(X_data)\n",
    "print(f\"Preprocessed Loan Approval Data: {X_data}\")"
   ]
  },
  {
   "cell_type": "code",
   "execution_count": 7,
   "id": "bc7cdf07-e282-4308-8b16-795863ba4863",
   "metadata": {},
   "outputs": [
    {
     "name": "stdout",
     "output_type": "stream",
     "text": [
      "\n",
      "Features after scaling:\n",
      "[[-6.24493778e-01  1.13612002e+00 -1.40684792e+00 -6.29558967e-04\n",
      "  -3.35319308e-01 -5.00849856e-01 -4.98762192e-01 -5.01736902e-01\n",
      "  -4.98027339e-01  1.99751590e+00 -3.53769729e-01 -3.55524370e-01\n",
      "  -3.54670878e-01 -3.54009444e-01 -3.52885221e-01 -3.53021380e-01\n",
      "   2.83675056e+00 -3.52132239e-01 -3.53444001e-01  1.72904457e+00\n",
      "  -5.77667427e-01 -5.77276368e-01 -5.76103191e-01]\n",
      " [-1.56286255e+00 -5.20834017e-01 -1.43618904e+00  1.22419333e+00\n",
      "   9.98844165e-01 -5.00849856e-01 -4.98762192e-01  1.99307644e+00\n",
      "  -4.98027339e-01 -5.00621798e-01  2.82669748e+00 -3.55524370e-01\n",
      "  -3.54670878e-01 -3.54009444e-01 -3.52885221e-01 -3.53021380e-01\n",
      "  -3.52516013e-01 -3.52132239e-01 -3.53444001e-01 -5.78354090e-01\n",
      "   1.73109986e+00 -5.77276368e-01 -5.76103191e-01]\n",
      " [ 2.44732027e-01  1.19348092e+00  6.87692648e-01  1.22419333e+00\n",
      "   3.31762428e-01 -5.00849856e-01 -4.98762192e-01 -5.01736902e-01\n",
      "  -4.98027339e-01  1.99751590e+00 -3.53769729e-01  2.81274670e+00\n",
      "  -3.54670878e-01 -3.54009444e-01 -3.52885221e-01 -3.53021380e-01\n",
      "  -3.52516013e-01 -3.52132239e-01 -3.53444001e-01  1.72904457e+00\n",
      "  -5.77667427e-01 -5.77276368e-01 -5.76103191e-01]\n",
      " [-1.48384202e+00  5.67152570e-01 -1.45028203e+00 -6.29558967e-04\n",
      "  -1.00240104e+00  1.99660634e+00 -4.98762192e-01 -5.01736902e-01\n",
      "  -4.98027339e-01 -5.00621798e-01 -3.53769729e-01 -3.55524370e-01\n",
      "   2.81951540e+00 -3.54009444e-01 -3.52885221e-01 -3.53021380e-01\n",
      "  -3.52516013e-01 -3.52132239e-01 -3.53444001e-01  1.72904457e+00\n",
      "  -5.77667427e-01 -5.77276368e-01 -5.76103191e-01]\n",
      " [ 6.69358394e-02 -6.90823114e-02 -1.21624611e+00  1.22419333e+00\n",
      "  -1.66948278e+00 -5.00849856e-01 -4.98762192e-01 -5.01736902e-01\n",
      "   2.00792190e+00 -5.00621798e-01 -3.53769729e-01 -3.55524370e-01\n",
      "  -3.54670878e-01 -3.54009444e-01 -3.52885221e-01 -3.53021380e-01\n",
      "  -3.52516013e-01  2.83984222e+00 -3.53444001e-01 -5.78354090e-01\n",
      "   1.73109986e+00 -5.77276368e-01 -5.76103191e-01]]\n",
      "\n",
      "Target after scaling:\n",
      "[[1. 0. 0.]\n",
      " [1. 0. 0.]\n",
      " [1. 0. 0.]\n",
      " [1. 0. 0.]\n",
      " [0. 1. 0.]]\n"
     ]
    }
   ],
   "source": [
    "# The Feature Variables are numeric, so create a scaler model that fits on the input data\n",
    "scaler = preprocessing.StandardScaler().fit(X_data)\n",
    "\n",
    "# Scale the numeric feature varibales\n",
    "X_data = scaler.transform(X_data)\n",
    "\n",
    "# Convert target variables as one-hot-encoding array\n",
    "le = preprocessing.LabelEncoder()\n",
    "Y_data = le.fit_transform(Y_data)\n",
    "Y_data = tf.keras.utils.to_categorical(Y_data, 3)\n",
    "\n",
    "print(f\"\\nFeatures after scaling:\\n{X_data[:5,:]}\")\n",
    "print(f\"\\nTarget after scaling:\\n{Y_data[:5,:]}\")"
   ]
  },
  {
   "cell_type": "code",
   "execution_count": 8,
   "id": "48b31c73-9748-4fec-8d7d-8a23a885745f",
   "metadata": {},
   "outputs": [
    {
     "name": "stdout",
     "output_type": "stream",
     "text": [
      "The input variable shape is: 23\n"
     ]
    }
   ],
   "source": [
    "# The shape of your input data is the second element in the shape of your preprocessed data\n",
    "input_shape = X_data.shape[1]\n",
    "print(f\"The input variable shape is: {input_shape}\")"
   ]
  },
  {
   "cell_type": "code",
   "execution_count": 9,
   "id": "4a9140eb-591d-4a79-9cda-08b9f4379cce",
   "metadata": {},
   "outputs": [
    {
     "name": "stdout",
     "output_type": "stream",
     "text": [
      "Split data shapes:\n",
      "((450000, 23), (50000, 23), (450000, 3), (50000, 3))\n"
     ]
    }
   ],
   "source": [
    "# Split Training And Test Data\n",
    "X_train, X_test, Y_train, Y_test = train_test_split(X_data, Y_data, test_size=0.10)\n",
    "\n",
    "print(f\"Split data shapes:\\n{X_train.shape, X_test.shape, Y_train.shape, Y_test.shape}\")"
   ]
  },
  {
   "cell_type": "code",
   "execution_count": 10,
   "id": "d5244cac-b133-4537-a4a5-80c4bfdf3b7c",
   "metadata": {},
   "outputs": [],
   "source": [
    "# Number of classes in the target variable\n",
    "NB_CLASSES = 3\n",
    "\n",
    "# Create a Keras sequential model\n",
    "model = tf.keras.models.Sequential()"
   ]
  },
  {
   "cell_type": "code",
   "execution_count": 11,
   "id": "b4774e69-fb79-4270-8764-333847d4dbde",
   "metadata": {},
   "outputs": [
    {
     "data": {
      "text/html": [
       "<pre style=\"white-space:pre;overflow-x:auto;line-height:normal;font-family:Menlo,'DejaVu Sans Mono',consolas,'Courier New',monospace\"><span style=\"font-weight: bold\">Model: \"sequential\"</span>\n",
       "</pre>\n"
      ],
      "text/plain": [
       "\u001b[1mModel: \"sequential\"\u001b[0m\n"
      ]
     },
     "metadata": {},
     "output_type": "display_data"
    },
    {
     "data": {
      "text/html": [
       "<pre style=\"white-space:pre;overflow-x:auto;line-height:normal;font-family:Menlo,'DejaVu Sans Mono',consolas,'Courier New',monospace\">┏━━━━━━━━━━━━━━━━━━━━━━━━━━━━━━━━━┳━━━━━━━━━━━━━━━━━━━━━━━━┳━━━━━━━━━━━━━━━┓\n",
       "┃<span style=\"font-weight: bold\"> Layer (type)                    </span>┃<span style=\"font-weight: bold\"> Output Shape           </span>┃<span style=\"font-weight: bold\">       Param # </span>┃\n",
       "┡━━━━━━━━━━━━━━━━━━━━━━━━━━━━━━━━━╇━━━━━━━━━━━━━━━━━━━━━━━━╇━━━━━━━━━━━━━━━┩\n",
       "│ Hidden-Layer-1 (<span style=\"color: #0087ff; text-decoration-color: #0087ff\">Dense</span>)          │ (<span style=\"color: #00d7ff; text-decoration-color: #00d7ff\">None</span>, <span style=\"color: #00af00; text-decoration-color: #00af00\">128</span>)            │         <span style=\"color: #00af00; text-decoration-color: #00af00\">3,072</span> │\n",
       "├─────────────────────────────────┼────────────────────────┼───────────────┤\n",
       "│ Hidden-Layer-2 (<span style=\"color: #0087ff; text-decoration-color: #0087ff\">Dense</span>)          │ (<span style=\"color: #00d7ff; text-decoration-color: #00d7ff\">None</span>, <span style=\"color: #00af00; text-decoration-color: #00af00\">128</span>)            │        <span style=\"color: #00af00; text-decoration-color: #00af00\">16,512</span> │\n",
       "├─────────────────────────────────┼────────────────────────┼───────────────┤\n",
       "│ Output-Layer (<span style=\"color: #0087ff; text-decoration-color: #0087ff\">Dense</span>)            │ (<span style=\"color: #00d7ff; text-decoration-color: #00d7ff\">None</span>, <span style=\"color: #00af00; text-decoration-color: #00af00\">3</span>)              │           <span style=\"color: #00af00; text-decoration-color: #00af00\">387</span> │\n",
       "└─────────────────────────────────┴────────────────────────┴───────────────┘\n",
       "</pre>\n"
      ],
      "text/plain": [
       "┏━━━━━━━━━━━━━━━━━━━━━━━━━━━━━━━━━┳━━━━━━━━━━━━━━━━━━━━━━━━┳━━━━━━━━━━━━━━━┓\n",
       "┃\u001b[1m \u001b[0m\u001b[1mLayer (type)                   \u001b[0m\u001b[1m \u001b[0m┃\u001b[1m \u001b[0m\u001b[1mOutput Shape          \u001b[0m\u001b[1m \u001b[0m┃\u001b[1m \u001b[0m\u001b[1m      Param #\u001b[0m\u001b[1m \u001b[0m┃\n",
       "┡━━━━━━━━━━━━━━━━━━━━━━━━━━━━━━━━━╇━━━━━━━━━━━━━━━━━━━━━━━━╇━━━━━━━━━━━━━━━┩\n",
       "│ Hidden-Layer-1 (\u001b[38;5;33mDense\u001b[0m)          │ (\u001b[38;5;45mNone\u001b[0m, \u001b[38;5;34m128\u001b[0m)            │         \u001b[38;5;34m3,072\u001b[0m │\n",
       "├─────────────────────────────────┼────────────────────────┼───────────────┤\n",
       "│ Hidden-Layer-2 (\u001b[38;5;33mDense\u001b[0m)          │ (\u001b[38;5;45mNone\u001b[0m, \u001b[38;5;34m128\u001b[0m)            │        \u001b[38;5;34m16,512\u001b[0m │\n",
       "├─────────────────────────────────┼────────────────────────┼───────────────┤\n",
       "│ Output-Layer (\u001b[38;5;33mDense\u001b[0m)            │ (\u001b[38;5;45mNone\u001b[0m, \u001b[38;5;34m3\u001b[0m)              │           \u001b[38;5;34m387\u001b[0m │\n",
       "└─────────────────────────────────┴────────────────────────┴───────────────┘\n"
      ]
     },
     "metadata": {},
     "output_type": "display_data"
    },
    {
     "data": {
      "text/html": [
       "<pre style=\"white-space:pre;overflow-x:auto;line-height:normal;font-family:Menlo,'DejaVu Sans Mono',consolas,'Courier New',monospace\"><span style=\"font-weight: bold\"> Total params: </span><span style=\"color: #00af00; text-decoration-color: #00af00\">19,971</span> (78.01 KB)\n",
       "</pre>\n"
      ],
      "text/plain": [
       "\u001b[1m Total params: \u001b[0m\u001b[38;5;34m19,971\u001b[0m (78.01 KB)\n"
      ]
     },
     "metadata": {},
     "output_type": "display_data"
    },
    {
     "data": {
      "text/html": [
       "<pre style=\"white-space:pre;overflow-x:auto;line-height:normal;font-family:Menlo,'DejaVu Sans Mono',consolas,'Courier New',monospace\"><span style=\"font-weight: bold\"> Trainable params: </span><span style=\"color: #00af00; text-decoration-color: #00af00\">19,971</span> (78.01 KB)\n",
       "</pre>\n"
      ],
      "text/plain": [
       "\u001b[1m Trainable params: \u001b[0m\u001b[38;5;34m19,971\u001b[0m (78.01 KB)\n"
      ]
     },
     "metadata": {},
     "output_type": "display_data"
    },
    {
     "data": {
      "text/html": [
       "<pre style=\"white-space:pre;overflow-x:auto;line-height:normal;font-family:Menlo,'DejaVu Sans Mono',consolas,'Courier New',monospace\"><span style=\"font-weight: bold\"> Non-trainable params: </span><span style=\"color: #00af00; text-decoration-color: #00af00\">0</span> (0.00 B)\n",
       "</pre>\n"
      ],
      "text/plain": [
       "\u001b[1m Non-trainable params: \u001b[0m\u001b[38;5;34m0\u001b[0m (0.00 B)\n"
      ]
     },
     "metadata": {},
     "output_type": "display_data"
    }
   ],
   "source": [
    "# Define the input layer\n",
    "model.add(tf.keras.Input(shape=(input_shape,)))\n",
    "\n",
    "# Add the first hidden layer\n",
    "model.add(\n",
    "    tf.keras.layers.Dense(\n",
    "        128,                   # Number of nodes\n",
    "        name=\"Hidden-Layer-1\", # Logical name\n",
    "        activation=\"relu\"      # Activation Function\n",
    "    )\n",
    ")\n",
    "\n",
    "# Add second hidden layer\n",
    "model.add(\n",
    "    tf.keras.layers.Dense(\n",
    "        128,                   # Number of nodes\n",
    "        name=\"Hidden-Layer-2\", # Logical name\n",
    "        activation=\"relu\"      # Activation Function\n",
    "    )\n",
    ")\n",
    "\n",
    "# Add output layer with softmax activation\n",
    "model.add(\n",
    "    tf.keras.layers.Dense(\n",
    "        NB_CLASSES,            # Number of nodes\n",
    "        name=\"Output-Layer\",   # Logical name\n",
    "        activation=\"softmax\"   # Activation Function\n",
    "    )\n",
    ")\n",
    "\n",
    "# Compile the model with loss & metrics\n",
    "model.compile(\n",
    "    loss=\"categorical_crossentropy\",\n",
    "    metrics=[\"accuracy\"]\n",
    ")\n",
    "\n",
    "# Show model metadata\n",
    "model.summary()\n",
    "\n",
    "# Save the model\n",
    "model.save(\"loan_approval.keras\")"
   ]
  },
  {
   "cell_type": "code",
   "execution_count": 12,
   "id": "c86d3e41-5503-4117-ae69-becb7097bdda",
   "metadata": {},
   "outputs": [
    {
     "name": "stdout",
     "output_type": "stream",
     "text": [
      "Epoch 1/10\n",
      "\u001b[1m22500/22500\u001b[0m \u001b[32m━━━━━━━━━━━━━━━━━━━━\u001b[0m\u001b[37m\u001b[0m \u001b[1m11s\u001b[0m 490us/step - accuracy: 0.9737 - loss: 0.0608 - val_accuracy: 0.9936 - val_loss: 0.0158\n",
      "Epoch 2/10\n",
      "\u001b[1m22500/22500\u001b[0m \u001b[32m━━━━━━━━━━━━━━━━━━━━\u001b[0m\u001b[37m\u001b[0m \u001b[1m11s\u001b[0m 472us/step - accuracy: 0.9926 - loss: 0.0211 - val_accuracy: 0.9929 - val_loss: 0.0194\n",
      "Epoch 3/10\n",
      "\u001b[1m22500/22500\u001b[0m \u001b[32m━━━━━━━━━━━━━━━━━━━━\u001b[0m\u001b[37m\u001b[0m \u001b[1m11s\u001b[0m 481us/step - accuracy: 0.9935 - loss: 0.0189 - val_accuracy: 0.9951 - val_loss: 0.0119\n",
      "Epoch 4/10\n",
      "\u001b[1m22500/22500\u001b[0m \u001b[32m━━━━━━━━━━━━━━━━━━━━\u001b[0m\u001b[37m\u001b[0m \u001b[1m11s\u001b[0m 477us/step - accuracy: 0.9941 - loss: 0.0176 - val_accuracy: 0.9954 - val_loss: 0.0133\n",
      "Epoch 5/10\n",
      "\u001b[1m22500/22500\u001b[0m \u001b[32m━━━━━━━━━━━━━━━━━━━━\u001b[0m\u001b[37m\u001b[0m \u001b[1m11s\u001b[0m 488us/step - accuracy: 0.9943 - loss: 0.0174 - val_accuracy: 0.9942 - val_loss: 0.0215\n",
      "Epoch 6/10\n",
      "\u001b[1m22500/22500\u001b[0m \u001b[32m━━━━━━━━━━━━━━━━━━━━\u001b[0m\u001b[37m\u001b[0m \u001b[1m11s\u001b[0m 491us/step - accuracy: 0.9948 - loss: 0.0165 - val_accuracy: 0.9926 - val_loss: 0.0296\n",
      "Epoch 7/10\n",
      "\u001b[1m22500/22500\u001b[0m \u001b[32m━━━━━━━━━━━━━━━━━━━━\u001b[0m\u001b[37m\u001b[0m \u001b[1m12s\u001b[0m 516us/step - accuracy: 0.9949 - loss: 0.0163 - val_accuracy: 0.9948 - val_loss: 0.0151\n",
      "Epoch 8/10\n",
      "\u001b[1m22500/22500\u001b[0m \u001b[32m━━━━━━━━━━━━━━━━━━━━\u001b[0m\u001b[37m\u001b[0m \u001b[1m12s\u001b[0m 527us/step - accuracy: 0.9950 - loss: 0.0162 - val_accuracy: 0.9942 - val_loss: 0.0188\n",
      "Epoch 9/10\n",
      "\u001b[1m22500/22500\u001b[0m \u001b[32m━━━━━━━━━━━━━━━━━━━━\u001b[0m\u001b[37m\u001b[0m \u001b[1m11s\u001b[0m 507us/step - accuracy: 0.9954 - loss: 0.0149 - val_accuracy: 0.9948 - val_loss: 0.0164\n",
      "Epoch 10/10\n",
      "\u001b[1m22500/22500\u001b[0m \u001b[32m━━━━━━━━━━━━━━━━━━━━\u001b[0m\u001b[37m\u001b[0m \u001b[1m12s\u001b[0m 522us/step - accuracy: 0.9953 - loss: 0.0155 - val_accuracy: 0.9955 - val_loss: 0.0139\n"
     ]
    }
   ],
   "source": [
    "VERBOSE = 1\n",
    "\n",
    "# Model hyperparameters\n",
    "BATCH_SIZE = 16\n",
    "EPOCHS = 10\n",
    "VALIDATION_SPLIT = 0.2\n",
    "\n",
    "# Train the model using Keras, using forward & back propagation, loss computation and gradient descent\n",
    "history = model.fit(\n",
    "    X_train,\n",
    "    Y_train,\n",
    "    batch_size=BATCH_SIZE,\n",
    "    epochs=EPOCHS,\n",
    "    verbose=VERBOSE,\n",
    "    validation_split=VALIDATION_SPLIT\n",
    ")"
   ]
  },
  {
   "cell_type": "code",
   "execution_count": 13,
   "id": "a9996949-3e42-4617-9989-029a3ad21a68",
   "metadata": {},
   "outputs": [
    {
     "data": {
      "image/png": "[encoded data removed]",
      "text/plain": [
       "<Figure size 800x500 with 1 Axes>"
      ]
     },
     "metadata": {},
     "output_type": "display_data"
    }
   ],
   "source": [
    "# Show accuracy during training\n",
    "pd.DataFrame(\n",
    "    history.history\n",
    ")[\"accuracy\"].plot(figsize=(8, 5))\n",
    "plt.title(\"Accuracy improvement with Epoch\")\n",
    "plt.show()"
   ]
  },
  {
   "cell_type": "code",
   "execution_count": 14,
   "id": "c2007b5e-3013-4464-8a75-d8b3497d91d3",
   "metadata": {},
   "outputs": [
    {
     "name": "stdout",
     "output_type": "stream",
     "text": [
      "\u001b[1m1/1\u001b[0m \u001b[32m━━━━━━━━━━━━━━━━━━━━\u001b[0m\u001b[37m\u001b[0m \u001b[1m0s\u001b[0m 25ms/step\n",
      "Predicition is: [False]\n",
      "\u001b[1m1/1\u001b[0m \u001b[32m━━━━━━━━━━━━━━━━━━━━\u001b[0m\u001b[37m\u001b[0m \u001b[1m0s\u001b[0m 8ms/step\n",
      "Predicition is: [False]\n"
     ]
    }
   ],
   "source": [
    "# Input data\n",
    "# Input data for an approved loan\n",
    "input_data_approved = {\n",
    "    'credit_score': [700],  # Greater than 600\n",
    "    'income': [50000],  # Greater than 40000\n",
    "    'loan_amount': [10000],  # Less than 15000\n",
    "    'loan_term_months': [36],  # Any value\n",
    "    'interest_rate': [0.05],  # Any value\n",
    "    'employment_status': ['employed'],  # In [\"employed\", \"self-employed\", \"retired\"]\n",
    "    'loan_purpose': ['car'],  # Not \"debt consolidation\"\n",
    "    'credit_history': ['good']  # In [\"excellent\", \"good\"]\n",
    "}\n",
    "\n",
    "# Input data for a not approved loan\n",
    "input_data_not_approved = {\n",
    "    'credit_score': [500],  # Less than or equal to 600\n",
    "    'income': [30000],  # Less than or equal to 40000\n",
    "    'loan_amount': [20000],  # Greater than or equal to 15000\n",
    "    'loan_term_months': [36],  # Any value\n",
    "    'interest_rate': [0.15],  # High interest rate\n",
    "    'employment_status': ['unemployed'],  # Not in [\"employed\", \"self-employed\", \"retired\"]\n",
    "    'loan_purpose': ['debt consolidation'],  # Is \"debt consolidation\"\n",
    "    'credit_history': ['poor']  # Not in [\"excellent\", \"good\"]\n",
    "}\n",
    "\n",
    "\n",
    "def get_prediction(input_data):\n",
    "    # Convert input data to DataFrame\n",
    "    input_df = pd.DataFrame.from_dict(input_data)\n",
    "    \n",
    "    # Preprocess the input data\n",
    "    input_data_preprocessed = preprocessor.transform(input_df)\n",
    "    \n",
    "    # Predict the class probabilities\n",
    "    class_probabilities = model.predict(input_data_preprocessed)\n",
    "    \n",
    "    # Convert the class probabilities to class labels\n",
    "    prediction = np.argmax(class_probabilities) # get index of highest probability\n",
    "\n",
    "    # Find prediction\n",
    "    prediction = np.argmax(prediction) # get index of highest probability\n",
    "    print(f\"Predicition is: {label_encoder.inverse_transform([prediction])}\")\n",
    "    \n",
    "    \n",
    "\n",
    "get_prediction(input_data_approved)\n",
    "get_prediction(input_data_not_approved)"
   ]
  },
  {
   "cell_type": "code",
   "execution_count": null,
   "id": "96257d51-2efb-4a41-92bb-b506bf33a6f0",
   "metadata": {},
   "outputs": [],
   "source": []
  }
 ],
 "metadata": {
  "kernelspec": {
   "display_name": "Python 3 (ipykernel)",
   "language": "python",
   "name": "python3"
  },
  "language_info": {
   "codemirror_mode": {
    "name": "ipython",
    "version": 3
   },
   "file_extension": ".py",
   "mimetype": "text/x-python",
   "name": "python",
   "nbconvert_exporter": "python",
   "pygments_lexer": "ipython3",
   "version": "3.11.6"
  }
 },
 "nbformat": 4,
 "nbformat_minor": 5
}
